{
  "metadata" : {
    "id" : "c8749075-25ae-48aa-a102-495a26a92d54",
    "name" : "batch_weblogs",
    "user_save_timestamp" : "1970-01-01T01:00:00.000Z",
    "auto_save_timestamp" : "1970-01-01T01:00:00.000Z",
    "language_info" : {
      "name" : "scala",
      "file_extension" : "scala",
      "codemirror_mode" : "text/x-scala"
    },
    "trusted" : true,
    "sparkNotebook" : null,
    "customLocalRepo" : null,
    "customRepos" : null,
    "customDeps" : null,
    "customImports" : null,
    "customArgs" : null,
    "customSparkConf" : null,
    "customVars" : null
  },
  "cells" : [
    {
      "metadata" : {
        "id" : "A7ECD7E2EBF047A283DBADDCA0BB55E1"
      },
      "cell_type" : "markdown",
      "source" : "# Simple Weblog Analytics - The Batch Way\nIn this notebook, we are going to quickly visit a batch process of a series of weblog files to obtain the top trending pages per day."
    },
    {
      "metadata" : {
        "trusted" : true,
        "input_collapsed" : false,
        "collapsed" : false,
        "id" : "4D776A6E557446488681874D1D710705"
      },
      "cell_type" : "code",
      "source" : [
        "// This is the location of the unpackaged files. Update accordingly\n",
        "val logsDirectory = \"/tmp/data/nasa_dataset_july_1995\" // \"/tmp/data/nasa_dataset_july_1995\"\n",
        "val rawLogs = sparkSession.read.json(logsDirectory)"
      ],
      "outputs" : [
        {
          "name" : "stdout",
          "output_type" : "stream",
          "text" : "logsDirectory: String = /tmp/data/nasa_dataset_july_1995\nrawLogs: org.apache.spark.sql.DataFrame = [bytes: bigint, host: string ... 3 more fields]\n"
        },
        {
          "metadata" : { },
          "data" : {
            "text/html" : ""
          },
          "output_type" : "execute_result",
          "execution_count" : 2,
          "time" : "Took: 3.917s, at 2018-01-08 21:59"
        }
      ]
    },
    {
      "metadata" : {
        "id" : "A60148A17B904A72A421640BB8E87474"
      },
      "cell_type" : "markdown",
      "source" : "## We define a schema for the data in the logs\nFollowing the formal description of the dataset (at: [NASA-HTTP](http://ita.ee.lbl.gov/html/contrib/NASA-HTTP.html) ), the log is structured as follows:\n\n>The logs are an ASCII file with one line per request, with the following columns:\n- host making the request. A hostname when possible, otherwise the Internet address if the name could not be looked up.\n- timestamp in the format \"DAY MON DD HH:MM:SS YYYY\", where DAY is the day of the week, MON is the name of the month, DD is the day of the month, HH:MM:SS is the time of day using a 24-hour clock, and YYYY is the year. The timezone is -0400.\n- request given in quotes.\n- HTTP reply code.\n- bytes in the reply.\n\nThe dataset provided for this exercise offers this data in JSON format"
    },
    {
      "metadata" : {
        "trusted" : true,
        "input_collapsed" : false,
        "collapsed" : false,
        "id" : "82F9E2879A1747EF8CC36B5E5D64E701"
      },
      "cell_type" : "code",
      "source" : [
        "import java.sql.Timestamp\n",
        "case class WebLog(host:String, \n",
        "                  timestamp: Timestamp, \n",
        "                  request: String, \n",
        "                  http_reply:Int, \n",
        "                  bytes: Long\n",
        "                 )"
      ],
      "outputs" : [
        {
          "name" : "stdout",
          "output_type" : "stream",
          "text" : "import java.sql.Timestamp\ndefined class WebLog\n"
        },
        {
          "metadata" : { },
          "data" : {
            "text/html" : ""
          },
          "output_type" : "execute_result",
          "execution_count" : 3,
          "time" : "Took: 0.726s, at 2018-01-08 21:59"
        }
      ]
    },
    {
      "metadata" : {
        "id" : "CB0651C3AB3747EF9CB38477A6E59201"
      },
      "cell_type" : "markdown",
      "source" : "## We convert the raw data to structured logs"
    },
    {
      "metadata" : {
        "trusted" : true,
        "input_collapsed" : false,
        "collapsed" : false,
        "id" : "7AF0F566B58C49F195A3D1E4990BA3E6"
      },
      "cell_type" : "code",
      "source" : [
        "import org.apache.spark.sql.functions._\n",
        "import org.apache.spark.sql.types.IntegerType\n",
        "val preparedLogs = rawLogs.withColumn(\"http_reply\", $\"http_reply\".cast(IntegerType))"
      ],
      "outputs" : [
        {
          "name" : "stdout",
          "output_type" : "stream",
          "text" : "import org.apache.spark.sql.functions._\nimport org.apache.spark.sql.types.IntegerType\npreparedLogs: org.apache.spark.sql.DataFrame = [bytes: bigint, host: string ... 3 more fields]\n"
        },
        {
          "metadata" : { },
          "data" : {
            "text/html" : ""
          },
          "output_type" : "execute_result",
          "execution_count" : 4,
          "time" : "Took: 0.691s, at 2018-01-08 21:59"
        }
      ]
    },
    {
      "metadata" : {
        "trusted" : true,
        "input_collapsed" : false,
        "collapsed" : false,
        "id" : "833438CD8CA1471181AC509553B749C2"
      },
      "cell_type" : "code",
      "source" : [
        "val weblogs = preparedLogs.as[WebLog]"
      ],
      "outputs" : [
        {
          "name" : "stdout",
          "output_type" : "stream",
          "text" : "weblogs: org.apache.spark.sql.Dataset[WebLog] = [bytes: bigint, host: string ... 3 more fields]\n"
        },
        {
          "metadata" : { },
          "data" : {
            "text/html" : ""
          },
          "output_type" : "execute_result",
          "execution_count" : 5,
          "time" : "Took: 1.178s, at 2018-01-08 21:59"
        }
      ]
    },
    {
      "metadata" : {
        "trusted" : true,
        "input_collapsed" : false,
        "collapsed" : true,
        "id" : "9313FDE7CE7548B180AE2A47CDBED56E"
      },
      "cell_type" : "markdown",
      "source" : "## Now, we have the data in a structured format and we can start asking the questions that interest us.\nWe have imported the data and transformed it properly using a known schema.  We can use this 'structured' data to create queries that provide insights in the behavior of the users. "
    },
    {
      "metadata" : {
        "id" : "144FB0F8C3AE42328435A2A8F3C150AB"
      },
      "cell_type" : "markdown",
      "source" : "### As a first step, we would like to know how many records are contained in our dataset."
    },
    {
      "metadata" : {
        "trusted" : true,
        "input_collapsed" : false,
        "collapsed" : false,
        "id" : "FBE9E30417204C9D83E8F1FE65AB6471"
      },
      "cell_type" : "code",
      "source" : [
        "val recordCount = weblogs.count"
      ],
      "outputs" : [
        {
          "name" : "stdout",
          "output_type" : "stream",
          "text" : "recordCount: Long = 1871988\n"
        },
        {
          "metadata" : { },
          "data" : {
            "text/html" : ""
          },
          "output_type" : "execute_result",
          "execution_count" : 6,
          "time" : "Took: 1.544s, at 2018-01-08 21:59"
        }
      ]
    },
    {
      "metadata" : {
        "id" : "BEA0D41E58324A479D2B91093864E6C7"
      },
      "cell_type" : "markdown",
      "source" : "### A common question would be, what was the most popular URL per day?\nWe first reduce the timestamp to the day of the year. We then group by this new 'day of year' column and the request url and we count over this aggregate. We finally order using descending order to get this top URLs first."
    },
    {
      "metadata" : {
        "trusted" : true,
        "input_collapsed" : false,
        "collapsed" : false,
        "id" : "B65C7756F4EA47388884AB0DC4619CE8"
      },
      "cell_type" : "code",
      "source" : [
        "val topDailyURLs = weblogs.withColumn(\"dayOfMonth\", dayofmonth($\"timestamp\"))\n",
        "                          .select($\"request\", $\"dayOfMonth\")\n",
        "                          .groupBy($\"dayOfMonth\", $\"request\")\n",
        "                          .agg(count($\"request\").alias(\"count\"))\n",
        "                          .orderBy(desc(\"count\"))"
      ],
      "outputs" : [
        {
          "name" : "stdout",
          "output_type" : "stream",
          "text" : "topDailyURLs: org.apache.spark.sql.Dataset[org.apache.spark.sql.Row] = [dayOfMonth: int, request: string ... 1 more field]\n"
        },
        {
          "metadata" : { },
          "data" : {
            "text/html" : ""
          },
          "output_type" : "execute_result",
          "execution_count" : 7,
          "time" : "Took: 0.654s, at 2018-01-08 21:59"
        }
      ]
    },
    {
      "metadata" : {
        "trusted" : true,
        "input_collapsed" : false,
        "collapsed" : false,
        "id" : "03E60D724B504A918E10873AEF0F0CF1"
      },
      "cell_type" : "code",
      "source" : [
        "topDailyURLs.show()"
      ],
      "outputs" : [
        {
          "name" : "stdout",
          "output_type" : "stream",
          "text" : "+----------+--------------------+-----+\n|dayOfMonth|             request|count|\n+----------+--------------------+-----+\n|        13|GET /images/NASA-...|12476|\n|        13|GET /htbin/cdt_ma...| 7471|\n|        12|GET /images/NASA-...| 7143|\n|        13|GET /htbin/cdt_cl...| 6237|\n|         6|GET /images/NASA-...| 6112|\n|         5|GET /images/NASA-...| 5865|\n|        13|GET /images/KSC-l...| 5662|\n|         7|GET /images/NASA-...| 5651|\n|         3|GET /images/NASA-...| 5356|\n|         6|GET /images/KSC-l...| 5126|\n|        14|GET /images/NASA-...| 5113|\n|        13|GET /shuttle/coun...| 4992|\n|         5|GET /images/KSC-l...| 4854|\n|         7|GET /images/KSC-l...| 4700|\n|        11|GET /images/NASA-...| 4544|\n|         3|GET /images/KSC-l...| 4445|\n|         4|GET /images/NASA-...| 4213|\n|        14|GET /images/KSC-l...| 4172|\n|        12|GET /htbin/cdt_ma...| 3972|\n|        13|GET /shuttle/coun...| 3954|\n+----------+--------------------+-----+\nonly showing top 20 rows\n\n"
        },
        {
          "metadata" : { },
          "data" : {
            "text/html" : ""
          },
          "output_type" : "execute_result",
          "execution_count" : 9,
          "time" : "Took: 2.696s, at 2018-01-08 22:00"
        }
      ]
    },
    {
      "metadata" : {
        "trusted" : true,
        "input_collapsed" : false,
        "collapsed" : false,
        "presentation" : {
          "tabs_state" : "{\n  \"tab_id\": \"#tab1967871757-0\"\n}",
          "pivot_chart_state" : "{\n  \"hiddenAttributes\": [],\n  \"menuLimit\": 200,\n  \"cols\": [],\n  \"rows\": [],\n  \"vals\": [],\n  \"exclusions\": {},\n  \"inclusions\": {},\n  \"unusedAttrsVertical\": 85,\n  \"autoSortUnusedAttrs\": false,\n  \"inclusionsInfo\": {},\n  \"aggregatorName\": \"Count\",\n  \"rendererName\": \"Table\"\n}"
        },
        "id" : "F1CB4530E62149F08D39256D53BA1C07"
      },
      "cell_type" : "code",
      "source" : [
        "topDailyURLs.take(10)\n"
      ],
      "outputs" : [
        {
          "name" : "stdout",
          "output_type" : "stream",
          "text" : "res8: Array[org.apache.spark.sql.Row] = Array([13,GET /images/NASA-logosmall.gif HTTP/1.0,12476], [13,GET /htbin/cdt_main.pl HTTP/1.0,7471], [12,GET /images/NASA-logosmall.gif HTTP/1.0,7143], [13,GET /htbin/cdt_clock.pl HTTP/1.0,6237], [6,GET /images/NASA-logosmall.gif HTTP/1.0,6112], [5,GET /images/NASA-logosmall.gif HTTP/1.0,5865], [13,GET /images/KSC-logosmall.gif HTTP/1.0,5662], [7,GET /images/NASA-logosmall.gif HTTP/1.0,5651], [3,GET /images/NASA-logosmall.gif HTTP/1.0,5356], [6,GET /images/KSC-logosmall.gif HTTP/1.0,5126])\n"
        },
        {
          "metadata" : { },
          "data" : {
            "text/html" : "<div>\n      <script data-this=\"{&quot;dataId&quot;:&quot;anoncd30297b5383e4854347aacd406c38b3&quot;,&quot;dataInit&quot;:[],&quot;genId&quot;:&quot;1967871757&quot;}\" type=\"text/x-scoped-javascript\">/*<![CDATA[*/req(['../javascripts/notebook/playground','../javascripts/notebook/magic/tabs'], \n      function(playground, _magictabs) {\n        // data ==> data-this (in observable.js's scopedEval) ==> this in JS => { dataId, dataInit, ... }\n        // this ==> scope (in observable.js's scopedEval) ==> this.parentElement ==> div.container below (toHtml)\n\n        playground.call(data,\n                        this\n                        ,\n                        {\n    \"f\": _magictabs,\n    \"o\": {}\n  }\n  \n                        \n                        \n                      );\n      }\n    );/*]]>*/</script>\n    <div>\n      <div>\n        <ul class=\"nav nav-tabs\" id=\"ul1967871757\"><li>\n              <a href=\"#tab1967871757-0\"><i class=\"fa fa-table\"/></a>\n            </li><li>\n              <a href=\"#tab1967871757-1\"><i class=\"fa fa-cubes\"/></a>\n            </li></ul>\n\n        <div class=\"tab-content\" id=\"tab1967871757\"><div class=\"tab-pane\" id=\"tab1967871757-0\">\n            <div>\n      <script data-this=\"{&quot;dataId&quot;:&quot;anon8487fb6485aa1ea978dc3c8cb1cc70ec&quot;,&quot;dataInit&quot;:[{&quot;dayOfMonth&quot;:13,&quot;request&quot;:&quot;GET /images/NASA-logosmall.gif HTTP/1.0&quot;,&quot;count&quot;:12476},{&quot;dayOfMonth&quot;:13,&quot;request&quot;:&quot;GET /htbin/cdt_main.pl HTTP/1.0&quot;,&quot;count&quot;:7471},{&quot;dayOfMonth&quot;:12,&quot;request&quot;:&quot;GET /images/NASA-logosmall.gif HTTP/1.0&quot;,&quot;count&quot;:7143},{&quot;dayOfMonth&quot;:13,&quot;request&quot;:&quot;GET /htbin/cdt_clock.pl HTTP/1.0&quot;,&quot;count&quot;:6237},{&quot;dayOfMonth&quot;:6,&quot;request&quot;:&quot;GET /images/NASA-logosmall.gif HTTP/1.0&quot;,&quot;count&quot;:6112},{&quot;dayOfMonth&quot;:5,&quot;request&quot;:&quot;GET /images/NASA-logosmall.gif HTTP/1.0&quot;,&quot;count&quot;:5865},{&quot;dayOfMonth&quot;:13,&quot;request&quot;:&quot;GET /images/KSC-logosmall.gif HTTP/1.0&quot;,&quot;count&quot;:5662},{&quot;dayOfMonth&quot;:7,&quot;request&quot;:&quot;GET /images/NASA-logosmall.gif HTTP/1.0&quot;,&quot;count&quot;:5651},{&quot;dayOfMonth&quot;:3,&quot;request&quot;:&quot;GET /images/NASA-logosmall.gif HTTP/1.0&quot;,&quot;count&quot;:5356},{&quot;dayOfMonth&quot;:6,&quot;request&quot;:&quot;GET /images/KSC-logosmall.gif HTTP/1.0&quot;,&quot;count&quot;:5126}],&quot;genId&quot;:&quot;1287305696&quot;}\" type=\"text/x-scoped-javascript\">/*<![CDATA[*/req(['../javascripts/notebook/playground','../javascripts/notebook/magic/tableChart'], \n      function(playground, _magictableChart) {\n        // data ==> data-this (in observable.js's scopedEval) ==> this in JS => { dataId, dataInit, ... }\n        // this ==> scope (in observable.js's scopedEval) ==> this.parentElement ==> div.container below (toHtml)\n\n        playground.call(data,\n                        this\n                        ,\n                        {\n    \"f\": _magictableChart,\n    \"o\": {\"headers\":[\"dayOfMonth\",\"request\",\"count\"],\"width\":600,\"height\":400}\n  }\n  \n                        \n                        \n                      );\n      }\n    );/*]]>*/</script>\n    <div>\n      <span class=\"chart-total-item-count\"><p data-bind=\"text: value\"><script data-this=\"{&quot;valueId&quot;:&quot;anon8e87ba8683e62a504abd54fbef369ff9&quot;,&quot;initialValue&quot;:&quot;10&quot;}\" type=\"text/x-scoped-javascript\">/*<![CDATA[*/\nreq(\n['observable', 'knockout'],\nfunction (O, ko) {\n  ko.applyBindings({\n      value: O.makeObservable(valueId, initialValue)\n    },\n    this\n  );\n});\n        /*]]>*/</script></p> entries total</span>\n      <span class=\"chart-sampling-warning\"><p data-bind=\"text: value\"><script data-this=\"{&quot;valueId&quot;:&quot;anon02ffb40bf9e7af679ccb9087f24b1398&quot;,&quot;initialValue&quot;:&quot;&quot;}\" type=\"text/x-scoped-javascript\">/*<![CDATA[*/\nreq(\n['observable', 'knockout'],\nfunction (O, ko) {\n  ko.applyBindings({\n      value: O.makeObservable(valueId, initialValue)\n    },\n    this\n  );\n});\n        /*]]>*/</script></p></span>\n      <div>\n      </div>\n    </div></div>\n            </div><div class=\"tab-pane\" id=\"tab1967871757-1\">\n            <div>\n      <script data-this=\"{&quot;dataId&quot;:&quot;anon7175317fa20c6a458f7d053a013e7efc&quot;,&quot;dataInit&quot;:[{&quot;dayOfMonth&quot;:13,&quot;request&quot;:&quot;GET /images/NASA-logosmall.gif HTTP/1.0&quot;,&quot;count&quot;:12476},{&quot;dayOfMonth&quot;:13,&quot;request&quot;:&quot;GET /htbin/cdt_main.pl HTTP/1.0&quot;,&quot;count&quot;:7471},{&quot;dayOfMonth&quot;:12,&quot;request&quot;:&quot;GET /images/NASA-logosmall.gif HTTP/1.0&quot;,&quot;count&quot;:7143},{&quot;dayOfMonth&quot;:13,&quot;request&quot;:&quot;GET /htbin/cdt_clock.pl HTTP/1.0&quot;,&quot;count&quot;:6237},{&quot;dayOfMonth&quot;:6,&quot;request&quot;:&quot;GET /images/NASA-logosmall.gif HTTP/1.0&quot;,&quot;count&quot;:6112},{&quot;dayOfMonth&quot;:5,&quot;request&quot;:&quot;GET /images/NASA-logosmall.gif HTTP/1.0&quot;,&quot;count&quot;:5865},{&quot;dayOfMonth&quot;:13,&quot;request&quot;:&quot;GET /images/KSC-logosmall.gif HTTP/1.0&quot;,&quot;count&quot;:5662},{&quot;dayOfMonth&quot;:7,&quot;request&quot;:&quot;GET /images/NASA-logosmall.gif HTTP/1.0&quot;,&quot;count&quot;:5651},{&quot;dayOfMonth&quot;:3,&quot;request&quot;:&quot;GET /images/NASA-logosmall.gif HTTP/1.0&quot;,&quot;count&quot;:5356},{&quot;dayOfMonth&quot;:6,&quot;request&quot;:&quot;GET /images/KSC-logosmall.gif HTTP/1.0&quot;,&quot;count&quot;:5126}],&quot;genId&quot;:&quot;1433327427&quot;}\" type=\"text/x-scoped-javascript\">/*<![CDATA[*/req(['../javascripts/notebook/playground','../javascripts/notebook/magic/pivotChart'], \n      function(playground, _magicpivotChart) {\n        // data ==> data-this (in observable.js's scopedEval) ==> this in JS => { dataId, dataInit, ... }\n        // this ==> scope (in observable.js's scopedEval) ==> this.parentElement ==> div.container below (toHtml)\n\n        playground.call(data,\n                        this\n                        ,\n                        {\n    \"f\": _magicpivotChart,\n    \"o\": {\"width\":600,\"height\":400,\"derivedAttributes\":{},\"extraOptions\":{}}\n  }\n  \n                        \n                        \n                      );\n      }\n    );/*]]>*/</script>\n    <div>\n      <span class=\"chart-total-item-count\"><p data-bind=\"text: value\"><script data-this=\"{&quot;valueId&quot;:&quot;anon504d935856c3d3a1e4a34632de2a200a&quot;,&quot;initialValue&quot;:&quot;10&quot;}\" type=\"text/x-scoped-javascript\">/*<![CDATA[*/\nreq(\n['observable', 'knockout'],\nfunction (O, ko) {\n  ko.applyBindings({\n      value: O.makeObservable(valueId, initialValue)\n    },\n    this\n  );\n});\n        /*]]>*/</script></p> entries total</span>\n      <span class=\"chart-sampling-warning\"><p data-bind=\"text: value\"><script data-this=\"{&quot;valueId&quot;:&quot;anonb93728ab41894a3b115852888af956f6&quot;,&quot;initialValue&quot;:&quot;&quot;}\" type=\"text/x-scoped-javascript\">/*<![CDATA[*/\nreq(\n['observable', 'knockout'],\nfunction (O, ko) {\n  ko.applyBindings({\n      value: O.makeObservable(valueId, initialValue)\n    },\n    this\n  );\n});\n        /*]]>*/</script></p></span>\n      <div>\n      </div>\n    </div></div>\n            </div></div>\n      </div>\n    </div></div>"
          },
          "output_type" : "execute_result",
          "execution_count" : 8,
          "time" : "Took: 3.892s, at 2018-01-08 21:59"
        }
      ]
    },
    {
      "metadata" : {
        "id" : "4F7AB40ADF1D4EFF9166CDB63A0DC77E"
      },
      "cell_type" : "markdown",
      "source" : "### Top hits are all images. What now?\nIt's not unusual to see that the top URLs are images commonly used across a site.\n\nOur true interest lies in the content pages generating most traffic. To find those, we will first filter out `html` content \nand then proceed to apply the top aggregation we just learned.\n\nThe request field is a quoted sequence of `[HTTP_VERB] URL [HTTP_VERSION]`. We will extract the url and preserve only those ending in `.html`, `.htm` or no extension (directories). This is a simplification for the purpose of the exercise. "
    },
    {
      "metadata" : {
        "trusted" : true,
        "input_collapsed" : false,
        "collapsed" : false,
        "id" : "EFB096DB74B54BDE822D095C687CE48B"
      },
      "cell_type" : "code",
      "source" : [
        "val urlExtractor = \"\"\"^GET (.+) HTTP/\\d.\\d\"\"\".r"
      ],
      "outputs" : [
        {
          "name" : "stdout",
          "output_type" : "stream",
          "text" : "urlExtractor: scala.util.matching.Regex = ^GET (.+) HTTP/\\d.\\d\n"
        },
        {
          "metadata" : { },
          "data" : {
            "text/html" : ""
          },
          "output_type" : "execute_result",
          "execution_count" : 37,
          "time" : "Took: 0.469s, at 2018-01-07 20:28"
        }
      ]
    },
    {
      "metadata" : {
        "trusted" : true,
        "input_collapsed" : false,
        "collapsed" : false,
        "id" : "82D66D566CF54A869E6DAD8B57F06C6F"
      },
      "cell_type" : "code",
      "source" : [
        "val sample = \"GET /shuttle/missions/sts-72/sts-72-patch-small.gif HTTP/1.0\"\n",
        "val urlExtractor(url) = sample\n",
        "\"/does/not/contain/dot\".takeRight(5).dropWhile(c=> c != '.')"
      ],
      "outputs" : [
        {
          "name" : "stdout",
          "output_type" : "stream",
          "text" : "sample: String = GET /shuttle/missions/sts-72/sts-72-patch-small.gif HTTP/1.0\nurl: String = /shuttle/missions/sts-72/sts-72-patch-small.gif\nres48: String = \"\"\n"
        },
        {
          "metadata" : { },
          "data" : {
            "text/html" : ""
          },
          "output_type" : "execute_result",
          "execution_count" : 40,
          "time" : "Took: 0.589s, at 2018-01-07 20:37"
        }
      ]
    },
    {
      "metadata" : {
        "trusted" : true,
        "input_collapsed" : false,
        "collapsed" : false,
        "id" : "7191956637C34DF28D24D2947E6999A8"
      },
      "cell_type" : "code",
      "source" : [
        "val urlExtractor = \"\"\"^GET (.+) HTTP/\\d.\\d\"\"\".r\n",
        "val allowedExtensions = Set(\".html\",\".htm\", \"\")\n",
        "val contentPageLogs = weblogs.filter {log => \n",
        "  log.request match {                                        \n",
        "    case urlExtractor(url) => \n",
        "      val ext = url.takeRight(5).dropWhile(c => c != '.')\n",
        "      allowedExtensions.contains(ext)\n",
        "    case _ => false \n",
        "  }\n",
        "}\n",
        "                                      "
      ],
      "outputs" : [
        {
          "name" : "stdout",
          "output_type" : "stream",
          "text" : "urlExtractor: scala.util.matching.Regex = ^GET (.+) HTTP/\\d.\\d\nallowedExtensions: scala.collection.immutable.Set[String] = Set(.html, .htm, \"\")\ncontentPageLogs: org.apache.spark.sql.Dataset[WebLog] = [bytes: bigint, host: string ... 3 more fields]\n"
        },
        {
          "metadata" : { },
          "data" : {
            "text/html" : ""
          },
          "output_type" : "execute_result",
          "execution_count" : 10,
          "time" : "Took: 0.707s, at 2018-01-08 22:09"
        }
      ]
    },
    {
      "metadata" : {
        "trusted" : true,
        "input_collapsed" : false,
        "collapsed" : false,
        "presentation" : {
          "tabs_state" : "{\n  \"tab_id\": \"#tab1029193174-0\"\n}",
          "pivot_chart_state" : "{\n  \"hiddenAttributes\": [],\n  \"menuLimit\": 200,\n  \"cols\": [],\n  \"rows\": [],\n  \"vals\": [],\n  \"exclusions\": {},\n  \"inclusions\": {},\n  \"unusedAttrsVertical\": 85,\n  \"autoSortUnusedAttrs\": false,\n  \"inclusionsInfo\": {},\n  \"aggregatorName\": \"Count\",\n  \"rendererName\": \"Table\"\n}"
        },
        "id" : "844604F254BF4450B2D60F09A766C444"
      },
      "cell_type" : "code",
      "source" : [
        "val topContentPages = contentPageLogs.withColumn(\"dayOfMonth\", dayofmonth($\"timestamp\"))\n",
        "                          .select($\"request\", $\"dayOfMonth\")\n",
        "                          .groupBy($\"dayOfMonth\", $\"request\")\n",
        "                          .agg(count($\"request\").alias(\"count\"))\n",
        "                          .orderBy(desc(\"count\"))"
      ],
      "outputs" : [
        {
          "name" : "stdout",
          "output_type" : "stream",
          "text" : "topContentPages: org.apache.spark.sql.Dataset[org.apache.spark.sql.Row] = [dayOfMonth: int, request: string ... 1 more field]\n"
        },
        {
          "metadata" : { },
          "data" : {
            "text/html" : ""
          },
          "output_type" : "execute_result",
          "execution_count" : 11,
          "time" : "Took: 0.580s, at 2018-01-08 22:09"
        }
      ]
    },
    {
      "metadata" : {
        "trusted" : true,
        "input_collapsed" : false,
        "collapsed" : false,
        "id" : "392A9C52AEC34D9F8EF709F5B407F0E1"
      },
      "cell_type" : "code",
      "source" : [
        "topContentPages"
      ],
      "outputs" : [
        {
          "name" : "stdout",
          "output_type" : "stream",
          "text" : "res16: org.apache.spark.sql.Dataset[org.apache.spark.sql.Row] = [dayOfMonth: int, request: string ... 1 more field]\n"
        },
        {
          "metadata" : { },
          "data" : {
            "text/html" : "<div class=\"df-canvas\">\n      <script data-this=\"{&quot;dataId&quot;:&quot;anonc50dbc13f80ecab326c7664a1384f780&quot;,&quot;partitionIndexId&quot;:&quot;anonae01912ebb9367437bfa6ee3a1b9d4a3&quot;,&quot;numPartitions&quot;:2195,&quot;dfSchema&quot;:{&quot;type&quot;:&quot;struct&quot;,&quot;fields&quot;:[{&quot;name&quot;:&quot;dayOfMonth&quot;,&quot;type&quot;:&quot;integer&quot;,&quot;nullable&quot;:true,&quot;metadata&quot;:{}},{&quot;name&quot;:&quot;request&quot;,&quot;type&quot;:&quot;string&quot;,&quot;nullable&quot;:true,&quot;metadata&quot;:{}},{&quot;name&quot;:&quot;count&quot;,&quot;type&quot;:&quot;long&quot;,&quot;nullable&quot;:false,&quot;metadata&quot;:{}}]}}\" type=\"text/x-scoped-javascript\">/*<![CDATA[*/req(['../javascripts/notebook/dataframe','../javascripts/notebook/consoleDir'], \n      function(dataframe, extension) {\n        dataframe.call(data, this, extension);\n      }\n    );/*]]>*/</script>\n      <link rel=\"stylesheet\" href=\"/assets/stylesheets/ipython/css/dataframe.css\" type=\"text/css\"/>\n    </div>"
          },
          "output_type" : "execute_result",
          "execution_count" : 13,
          "time" : "Took: 5.625s, at 2018-01-08 22:10"
        }
      ]
    },
    {
      "metadata" : {
        "id" : "995C97DC2E9F4DBA95A832588B147843"
      },
      "cell_type" : "markdown",
      "source" : "We can see that the most popular page that month was `liftoff.html ` corresponding to the coverage of the launch of the Discovery shuttle, as documented on the NASA archives: https://www.nasa.gov/mission_pages/shuttle/shuttlemissions/archives/sts-70.html.\n\nIt's closely followed by `countdown/` the days prior ot the launch."
    },
    {
      "metadata" : {
        "trusted" : true,
        "input_collapsed" : false,
        "collapsed" : true,
        "id" : "8DBF5B380B654300B6064149A1B63ABC"
      },
      "cell_type" : "code",
      "source" : [
        ""
      ],
      "outputs" : [ ]
    }
  ],
  "nbformat" : 4
}